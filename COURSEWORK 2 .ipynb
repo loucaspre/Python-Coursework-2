{
 "cells": [
  {
   "cell_type": "markdown",
   "metadata": {},
   "source": [
    "# SOFTWARE DEVELOPMENT 1 - COURSEWORK 2 - LOUKAS PREVYZIS\n"
   ]
  },
  {
   "cell_type": "code",
   "execution_count": 1,
   "metadata": {},
   "outputs": [
    {
     "name": "stdout",
     "output_type": "stream",
     "text": [
      "Enter a number: -77\n",
      "Negative\n"
     ]
    }
   ],
   "source": [
    "# I. Write a program that reads integer numbers from the user and reports whether each value is positive or negative.\n",
    "#The loop terminates when the user enters 0 (no message is displayed in this case).\n",
    "\n",
    "num = int (input(\"Enter a number: \"))\n",
    "if num > 0:\n",
    "   print(\"Positive\")\n",
    "elif num == 0:\n",
    "   print(\"\") #No specified messaged to be printed/displayed when the user enters number 0. \n",
    "else:\n",
    "   print(\"Negative\")\n",
    "#END"
   ]
  },
  {
   "cell_type": "code",
   "execution_count": 2,
   "metadata": {},
   "outputs": [
    {
     "name": "stdout",
     "output_type": "stream",
     "text": [
      "Enter a number:25\n",
      "7\n",
      "14\n",
      "21\n",
      "28\n",
      "35\n",
      "42\n",
      "49\n",
      "56\n",
      "63\n",
      "70\n",
      "77\n",
      "84\n",
      "91\n",
      "98\n",
      "105\n",
      "112\n",
      "119\n",
      "126\n",
      "133\n",
      "140\n",
      "147\n",
      "154\n",
      "161\n",
      "168\n",
      "175\n",
      "The number above is the result of the value entered &multiplied by 7, That's the end of the program.\n"
     ]
    }
   ],
   "source": [
    "#II. Build a program that reads an integer over 100 from the user and displays all of the positive multiples \n",
    "#of 7 up to (and including) the value entered by the user. \n",
    "#Tip: you can use the range function to build a list of numbers. \n",
    "\n",
    "numbers = int (input(\"Enter a number:\")) #Asking the user to enter a number. \n",
    "num = range(1, 200) #Creating a list of numbers using the range function. \n",
    "list (num)\n",
    "for n in num: \n",
    "    print (n*7) #Diplaying the multiples of seven from my list. \n",
    "    if n >= numbers:\n",
    "        print (\"The number above is the result of the value entered &multiplied by 7, That's the end of the program.\")\n",
    "        break\n",
    "#When the user enters an interger over 100 the last number in the displayed result would be the value entered\n",
    "#multiplied by 7 in the list \n",
    "\n",
    "#If the user attempts to enter a number that is negative or over 200 in the range them the output would just be the\n",
    "#the range only and it will not stop at the multiplication of the number that was entered by the user.\n",
    "#END"
   ]
  },
  {
   "cell_type": "code",
   "execution_count": 3,
   "metadata": {},
   "outputs": [
    {
     "name": "stdout",
     "output_type": "stream",
     "text": [
      "True\n"
     ]
    }
   ],
   "source": [
    "#III. A prime number is an integer greater than one that is only divisible by one and itself. \n",
    "#Write a function that determines whether or not its parameter is prime, returning True if it is, \n",
    "#and False otherwise. \n",
    "#Write a main program that reads an\n",
    "#integer from the user and displays a message indicating whether or not it is prime. \n",
    "\n",
    "\n",
    "\n",
    "#True = Prime and False = Not Prime \n",
    "\n",
    "def test_prime(n): #Using the \"def\" function to create my own function that tests if numbers given are prime or not\n",
    "#If statements     \n",
    "    if (n==1):\n",
    "        return False\n",
    "    elif (n==2):\n",
    "        return True;\n",
    "    else:\n",
    "        for x in range(2,n):\n",
    "            if(n % x==0):\n",
    "                return False\n",
    "        return True             \n",
    "print(test_prime(23)) #Please add number in brackets to test if prime or not. \n",
    "#END"
   ]
  },
  {
   "cell_type": "code",
   "execution_count": 4,
   "metadata": {},
   "outputs": [
    {
     "name": "stdout",
     "output_type": "stream",
     "text": [
      "Today's lottery numbers are: \n",
      "[16, 23, 24, 26, 38, 40]\n"
     ]
    }
   ],
   "source": [
    "#IV. Saturday nights changed forever when Lotto was introduced back in 1994. Since then, it’s become the nation’s\n",
    "#favourite game – played by millions in towns and cities across the country. \n",
    "#In order to win the top prize in the National\n",
    "#Lottery’s lotto, one must match all 6 numbers of a ticket to the 6 numbers between 1 and 59 that are drawn by the\n",
    "#lottery organizer. Write a program that generates a random selection of 6 numbers for a lottery ticket. \n",
    "#Ensure that the 6 numbers selected do not contain any duplicates. Finally, display the numbers in ascending order.\n",
    "\n",
    "import random #importing the random function to generate random integers.\n",
    "\n",
    "#I'm naming an empty list that will be used to store the 6 numbers in the lottery.\n",
    "lotteryNumbers = []\n",
    "\n",
    "#Using the range 0 to 6 in order for the generator to have a 6-number range. \n",
    "for i in range (0,6):\n",
    "  number = random.randint(1,59)\n",
    "  #In order to avoid duplicates, I am using the while loop:\n",
    "  while number in lotteryNumbers:\n",
    "    # if the a number has already been picked, then the programm is required to pick a different number within\n",
    "    #the same range\n",
    "    number = random.randint(1,59)\n",
    "  \n",
    "  #When the new unique number gets picked, it need to be appended in the list. \n",
    "  lotteryNumbers.append(number)\n",
    "\n",
    "#Sort the list of numbers in ascending order\n",
    "lotteryNumbers.sort()\n",
    "\n",
    "#Display the list of numbers on the screen:\n",
    "print(\"Today's lottery numbers are: \") \n",
    "print(lotteryNumbers)\n",
    "#END\n"
   ]
  },
  {
   "cell_type": "code",
   "execution_count": 5,
   "metadata": {},
   "outputs": [
    {
     "name": "stdout",
     "output_type": "stream",
     "text": [
      "What is your age? \n",
      "Enter 'end' when you are finished. 2\n",
      "Due to your age you are admitted free of charge\n",
      "What is your age? \n",
      "Enter 'end' when you are finished. 10\n",
      "Your ticket is £899.00\n",
      "What is your age? \n",
      "Enter 'end' when you are finished. 77\n",
      "Your ticket is £1490.49\n",
      "What is your age? \n",
      "Enter 'end' when you are finished. 23\n",
      "Your ticket is £1999.99 dollars\n",
      "What is your age? \n",
      "Enter 'end' when you are finished. end\n"
     ]
    }
   ],
   "source": [
    "#V. Amusement Park Exercise \n",
    "\n",
    "#Amusement park price is based on the age of the guest.\n",
    "#Guests 3 years of age and less are admitted without charge\n",
    "#Children between 4 and 11 years of age cost £899.90.\n",
    "#Seniors over 69 years and over cost £1490.49.\n",
    "#Admission for all other guests is £1999.99\n",
    "#Craft a program that begins by reading the ages of all of the guests in a group from the user, with one age entered \n",
    "#on each line.The user will enter a blank line to indicate that there are no more guests in the group. \n",
    "#Then your program should display the admission cost for the group with an appropriate message. \n",
    "#The cost should be displayed using two decimal places.\n",
    "\n",
    "\n",
    "#Default messages before input\n",
    "prompt = \"What is your age? \"\n",
    "prompt += \"\\nEnter 'end' when you are finished. \"\n",
    "\n",
    "#Using a while loop followed by if statements in order to relate age with price. \n",
    "while True:\n",
    "    age = input(prompt)\n",
    "    if age == 'end':\n",
    "        break\n",
    "    age = int(age)\n",
    "\n",
    "    if age <= 3:\n",
    "        print(\"Due to your age you are admitted free of charge\")\n",
    "    elif age >= 3 and age <=11:\n",
    "        print(\"Your ticket is £899.00\")\n",
    "    elif age >= 69:\n",
    "        print (\"Your ticket is £1490.49\")\n",
    "    else:\n",
    "        print(\"Your ticket is £1999.99 dollars\")\n",
    "#For when the prices increase/change depending on age please change print statements to print the appropriate price\n",
    "#OR change assignment operators IF appropriate. \n",
    "#END"
   ]
  }
 ],
 "metadata": {
  "kernelspec": {
   "display_name": "Python 3",
   "language": "python",
   "name": "python3"
  },
  "language_info": {
   "codemirror_mode": {
    "name": "ipython",
    "version": 3
   },
   "file_extension": ".py",
   "mimetype": "text/x-python",
   "name": "python",
   "nbconvert_exporter": "python",
   "pygments_lexer": "ipython3",
   "version": "3.8.3"
  }
 },
 "nbformat": 4,
 "nbformat_minor": 4
}
